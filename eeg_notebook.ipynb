{
 "cells": [
  {
   "cell_type": "code",
   "execution_count": 1,
   "metadata": {},
   "outputs": [],
   "source": [
    "import pyedflib\n",
    "from pyedflib import highlevel\n",
    "import mne"
   ]
  },
  {
   "cell_type": "code",
   "execution_count": 2,
   "metadata": {},
   "outputs": [
    {
     "name": "stdout",
     "output_type": "stream",
     "text": [
      "Extracting EDF parameters from /Users/shivanshmundra/Downloads/eeg-during-mental-arithmetic-tasks-1.0.0/edf files/Subject00_1.edf...\n",
      "EDF file detected\n",
      "Setting channel info structure...\n",
      "Creating raw.info structure...\n",
      "Reading 0 ... 90999  =      0.000 ...   181.998 secs...\n",
      "Extracting EDF parameters from /Users/shivanshmundra/Downloads/eeg-during-mental-arithmetic-tasks-1.0.0/edf files/Subject00_2.edf...\n",
      "EDF file detected\n",
      "Setting channel info structure...\n",
      "Creating raw.info structure...\n",
      "Reading 0 ... 30999  =      0.000 ...    61.998 secs...\n"
     ]
    }
   ],
   "source": [
    "edf_file_rest='/Users/shivanshmundra/Downloads/eeg-during-mental-arithmetic-tasks-1.0.0/edf files/Subject00_1.edf'\n",
    "edf_file_stress='/Users/shivanshmundra/Downloads/eeg-during-mental-arithmetic-tasks-1.0.0/edf files/Subject00_2.edf'\n",
    "raw_rest = mne.io.read_raw_edf(edf_file_rest, preload=True)\n",
    "raw_stress = mne.io.read_raw_edf(edf_file_stress, preload=True)"
   ]
  },
  {
   "cell_type": "code",
   "execution_count": 3,
   "metadata": {},
   "outputs": [
    {
     "name": "stdout",
     "output_type": "stream",
     "text": [
      "(21, 91000)\n",
      "(21, 31000)\n"
     ]
    }
   ],
   "source": [
    "print(raw_rest.get_data().shape)\n",
    "print(raw_stress.get_data().shape)"
   ]
  },
  {
   "cell_type": "code",
   "execution_count": 4,
   "metadata": {},
   "outputs": [
    {
     "name": "stdout",
     "output_type": "stream",
     "text": [
      "<Info | 8 non-empty values\n",
      " bads: []\n",
      " ch_names: EEG Fp1, EEG Fp2, EEG F3, EEG F4, EEG F7, EEG F8, EEG T3, EEG ...\n",
      " chs: 21 EEG\n",
      " custom_ref_applied: False\n",
      " highpass: 0.5 Hz\n",
      " lowpass: 45.0 Hz\n",
      " meas_date: 2011-01-01 00:00:00 UTC\n",
      " nchan: 21\n",
      " projs: []\n",
      " sfreq: 500.0 Hz\n",
      " subject_info: 4 items (dict)\n",
      ">\n",
      "<Info | 8 non-empty values\n",
      " bads: []\n",
      " ch_names: EEG Fp1, EEG Fp2, EEG F3, EEG F4, EEG F7, EEG F8, EEG T3, EEG ...\n",
      " chs: 21 EEG\n",
      " custom_ref_applied: False\n",
      " highpass: 0.5 Hz\n",
      " lowpass: 45.0 Hz\n",
      " meas_date: 2011-01-01 00:00:00 UTC\n",
      " nchan: 21\n",
      " projs: []\n",
      " sfreq: 500.0 Hz\n",
      " subject_info: 4 items (dict)\n",
      ">\n"
     ]
    }
   ],
   "source": [
    "print(raw_rest.info)\n",
    "print(raw_stress.info)"
   ]
  },
  {
   "cell_type": "code",
   "execution_count": 10,
   "metadata": {},
   "outputs": [
    {
     "ename": "RuntimeError",
     "evalue": "No EOG channel(s) found",
     "output_type": "error",
     "traceback": [
      "\u001b[0;31m---------------------------------------------------------------------------\u001b[0m",
      "\u001b[0;31mRuntimeError\u001b[0m                              Traceback (most recent call last)",
      "Cell \u001b[0;32mIn[10], line 1\u001b[0m\n\u001b[0;32m----> 1\u001b[0m eog_epochs \u001b[39m=\u001b[39m mne\u001b[39m.\u001b[39;49mpreprocessing\u001b[39m.\u001b[39;49mcreate_eog_epochs(raw_rest, baseline\u001b[39m=\u001b[39;49m(\u001b[39m-\u001b[39;49m\u001b[39m0.5\u001b[39;49m, \u001b[39m-\u001b[39;49m\u001b[39m0.2\u001b[39;49m))\n\u001b[1;32m      2\u001b[0m eog_epochs\u001b[39m.\u001b[39mplot_image(combine\u001b[39m=\u001b[39m\u001b[39m\"\u001b[39m\u001b[39mmean\u001b[39m\u001b[39m\"\u001b[39m)\n\u001b[1;32m      3\u001b[0m eog_epochs\u001b[39m.\u001b[39maverage()\u001b[39m.\u001b[39mplot_joint()\n",
      "File \u001b[0;32m<decorator-gen-301>:12\u001b[0m, in \u001b[0;36mcreate_eog_epochs\u001b[0;34m(raw, ch_name, event_id, picks, tmin, tmax, l_freq, h_freq, reject, flat, baseline, preload, reject_by_annotation, thresh, decim, verbose)\u001b[0m\n",
      "File \u001b[0;32m~/anaconda3/envs/ai/lib/python3.10/site-packages/mne/preprocessing/eog.py:319\u001b[0m, in \u001b[0;36mcreate_eog_epochs\u001b[0;34m(raw, ch_name, event_id, picks, tmin, tmax, l_freq, h_freq, reject, flat, baseline, preload, reject_by_annotation, thresh, decim, verbose)\u001b[0m\n\u001b[1;32m    228\u001b[0m \u001b[39m@verbose\u001b[39m\n\u001b[1;32m    229\u001b[0m \u001b[39mdef\u001b[39;00m \u001b[39mcreate_eog_epochs\u001b[39m(\n\u001b[1;32m    230\u001b[0m     raw,\n\u001b[0;32m   (...)\u001b[0m\n\u001b[1;32m    245\u001b[0m     verbose\u001b[39m=\u001b[39m\u001b[39mNone\u001b[39;00m,\n\u001b[1;32m    246\u001b[0m ):\n\u001b[1;32m    247\u001b[0m \u001b[39m    \u001b[39m\u001b[39m\"\"\"Conveniently generate epochs around EOG artifact events.\u001b[39;00m\n\u001b[1;32m    248\u001b[0m \n\u001b[1;32m    249\u001b[0m \u001b[39m    %(create_eog_epochs)s\u001b[39;00m\n\u001b[0;32m   (...)\u001b[0m\n\u001b[1;32m    317\u001b[0m \u001b[39m    the same filter properties as the input ``raw`` instance).\u001b[39;00m\n\u001b[1;32m    318\u001b[0m \u001b[39m    \"\"\"\u001b[39;00m\n\u001b[0;32m--> 319\u001b[0m     events \u001b[39m=\u001b[39m find_eog_events(\n\u001b[1;32m    320\u001b[0m         raw,\n\u001b[1;32m    321\u001b[0m         ch_name\u001b[39m=\u001b[39;49mch_name,\n\u001b[1;32m    322\u001b[0m         event_id\u001b[39m=\u001b[39;49mevent_id,\n\u001b[1;32m    323\u001b[0m         l_freq\u001b[39m=\u001b[39;49ml_freq,\n\u001b[1;32m    324\u001b[0m         h_freq\u001b[39m=\u001b[39;49mh_freq,\n\u001b[1;32m    325\u001b[0m         reject_by_annotation\u001b[39m=\u001b[39;49mreject_by_annotation,\n\u001b[1;32m    326\u001b[0m         thresh\u001b[39m=\u001b[39;49mthresh,\n\u001b[1;32m    327\u001b[0m     )\n\u001b[1;32m    329\u001b[0m     \u001b[39m# create epochs around EOG events\u001b[39;00m\n\u001b[1;32m    330\u001b[0m     eog_epochs \u001b[39m=\u001b[39m Epochs(\n\u001b[1;32m    331\u001b[0m         raw,\n\u001b[1;32m    332\u001b[0m         events\u001b[39m=\u001b[39mevents,\n\u001b[0;32m   (...)\u001b[0m\n\u001b[1;32m    343\u001b[0m         decim\u001b[39m=\u001b[39mdecim,\n\u001b[1;32m    344\u001b[0m     )\n",
      "File \u001b[0;32m<decorator-gen-299>:12\u001b[0m, in \u001b[0;36mfind_eog_events\u001b[0;34m(raw, event_id, l_freq, h_freq, filter_length, ch_name, tstart, reject_by_annotation, thresh, verbose)\u001b[0m\n",
      "File \u001b[0;32m~/anaconda3/envs/ai/lib/python3.10/site-packages/mne/preprocessing/eog.py:71\u001b[0m, in \u001b[0;36mfind_eog_events\u001b[0;34m(raw, event_id, l_freq, h_freq, filter_length, ch_name, tstart, reject_by_annotation, thresh, verbose)\u001b[0m\n\u001b[1;32m     30\u001b[0m \u001b[39m\u001b[39m\u001b[39m\"\"\"Locate EOG artifacts.\u001b[39;00m\n\u001b[1;32m     31\u001b[0m \n\u001b[1;32m     32\u001b[0m \u001b[39m.. note:: To control true-positive and true-negative detection rates, you\u001b[39;00m\n\u001b[0;32m   (...)\u001b[0m\n\u001b[1;32m     68\u001b[0m \u001b[39mcompute_proj_eog\u001b[39;00m\n\u001b[1;32m     69\u001b[0m \u001b[39m\"\"\"\u001b[39;00m\n\u001b[1;32m     70\u001b[0m \u001b[39m# Getting EOG Channel\u001b[39;00m\n\u001b[0;32m---> 71\u001b[0m eog_inds \u001b[39m=\u001b[39m _get_eog_channel_index(ch_name, raw)\n\u001b[1;32m     72\u001b[0m eog_names \u001b[39m=\u001b[39m np\u001b[39m.\u001b[39marray(raw\u001b[39m.\u001b[39mch_names)[eog_inds]  \u001b[39m# for logging\u001b[39;00m\n\u001b[1;32m     73\u001b[0m logger\u001b[39m.\u001b[39minfo(\u001b[39m\"\u001b[39m\u001b[39mEOG channel index for this subject is: \u001b[39m\u001b[39m%s\u001b[39;00m\u001b[39m\"\u001b[39m \u001b[39m%\u001b[39m eog_inds)\n",
      "File \u001b[0;32m~/anaconda3/envs/ai/lib/python3.10/site-packages/mne/preprocessing/eog.py:206\u001b[0m, in \u001b[0;36m_get_eog_channel_index\u001b[0;34m(ch_name, inst)\u001b[0m\n\u001b[1;32m    194\u001b[0m     eog_inds \u001b[39m=\u001b[39m pick_types(\n\u001b[1;32m    195\u001b[0m         inst\u001b[39m.\u001b[39minfo,\n\u001b[1;32m    196\u001b[0m         meg\u001b[39m=\u001b[39m\u001b[39mFalse\u001b[39;00m,\n\u001b[0;32m   (...)\u001b[0m\n\u001b[1;32m    203\u001b[0m         exclude\u001b[39m=\u001b[39m\u001b[39m\"\u001b[39m\u001b[39mbads\u001b[39m\u001b[39m\"\u001b[39m,\n\u001b[1;32m    204\u001b[0m     )\n\u001b[1;32m    205\u001b[0m     \u001b[39mif\u001b[39;00m eog_inds\u001b[39m.\u001b[39msize \u001b[39m==\u001b[39m \u001b[39m0\u001b[39m:\n\u001b[0;32m--> 206\u001b[0m         \u001b[39mraise\u001b[39;00m \u001b[39mRuntimeError\u001b[39;00m(\u001b[39m\"\u001b[39m\u001b[39mNo EOG channel(s) found\u001b[39m\u001b[39m\"\u001b[39m)\n\u001b[1;32m    207\u001b[0m     ch_names \u001b[39m=\u001b[39m [inst\u001b[39m.\u001b[39mch_names[i] \u001b[39mfor\u001b[39;00m i \u001b[39min\u001b[39;00m eog_inds]\n\u001b[1;32m    208\u001b[0m \u001b[39melif\u001b[39;00m \u001b[39misinstance\u001b[39m(ch_name, \u001b[39mstr\u001b[39m):\n",
      "\u001b[0;31mRuntimeError\u001b[0m: No EOG channel(s) found"
     ]
    }
   ],
   "source": []
  },
  {
   "cell_type": "code",
   "execution_count": null,
   "metadata": {},
   "outputs": [],
   "source": []
  }
 ],
 "metadata": {
  "kernelspec": {
   "display_name": "ai",
   "language": "python",
   "name": "python3"
  },
  "language_info": {
   "codemirror_mode": {
    "name": "ipython",
    "version": 3
   },
   "file_extension": ".py",
   "mimetype": "text/x-python",
   "name": "python",
   "nbconvert_exporter": "python",
   "pygments_lexer": "ipython3",
   "version": "3.10.0"
  },
  "orig_nbformat": 4,
  "vscode": {
   "interpreter": {
    "hash": "def5c8e2fd7823319a9abef63bb08ab48a3edd652234017d9a2ad3c2c79bcee8"
   }
  }
 },
 "nbformat": 4,
 "nbformat_minor": 2
}
